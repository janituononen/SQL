{
 "cells": [
  {
   "cell_type": "code",
   "execution_count": 17,
   "metadata": {},
   "outputs": [],
   "source": [
    "import sqlite3"
   ]
  },
  {
   "cell_type": "code",
   "execution_count": 18,
   "metadata": {},
   "outputs": [],
   "source": [
    "db  = sqlite3.connect('kurssit.db')\n",
    "db.isolation_level = None"
   ]
  },
  {
   "cell_type": "code",
   "execution_count": 19,
   "metadata": {},
   "outputs": [],
   "source": [
    "cur = db.cursor()"
   ]
  },
  {
   "cell_type": "code",
   "execution_count": 20,
   "metadata": {},
   "outputs": [
    {
     "data": {
      "text/plain": [
       "<sqlite3.Cursor at 0x20baf2d2810>"
      ]
     },
     "execution_count": 20,
     "metadata": {},
     "output_type": "execute_result"
    }
   ],
   "source": [
    "cur.execute(\"SELECT COUNT(id) FROM Suoritukset\")"
   ]
  },
  {
   "cell_type": "code",
   "execution_count": 21,
   "metadata": {},
   "outputs": [
    {
     "data": {
      "text/plain": [
       "[(1000000,)]"
      ]
     },
     "execution_count": 21,
     "metadata": {},
     "output_type": "execute_result"
    }
   ],
   "source": [
    "cur.fetchall()"
   ]
  },
  {
   "cell_type": "code",
   "execution_count": 22,
   "metadata": {},
   "outputs": [
    {
     "name": "stdout",
     "output_type": "stream",
     "text": [
      "1 - Laske annettuna vuonna saatujen opintopisteiden yhteismäärä\n",
      "2 - Tulosta annetun opiskelijan kaikki suoritukset aikajärjestyksessä\n",
      "3 - Tulosta annetun kurssin suoritusten arvosanojen jakauma\n",
      "4 - Tulosta top x eniten opintopisteitä antaneet opettajat\n",
      "5 - Sulje ohjelma\n",
      "Valitse toiminto: 1\n",
      "Anna vuosi: 2015\n",
      "Opintopisteiden määrä: 279558\n",
      "Valitse toiminto: 2\n",
      "Anna opiskelijan nimi: Anna Koivisto\n",
      "kurssi \t op \t päiväys \t arvosana\n",
      "TKT6428\t 1 \t 2000-01-24 \t 3\n",
      "TKT3749\t 4 \t 2001-03-17 \t 5\n",
      "TKT1660\t 3 \t 2012-04-30 \t 1\n",
      "TKT3786\t 7 \t 2013-01-30 \t 4\n",
      "TKT7822\t 3 \t 2008-07-10 \t 2\n",
      "TKT1573\t 10 \t 2008-02-22 \t 2\n",
      "TKT6914\t 1 \t 2011-03-29 \t 5\n",
      "TKT1365\t 8 \t 2005-04-08 \t 1\n",
      "TKT9221\t 5 \t 2011-06-08 \t 2\n",
      "TKT2416\t 6 \t 2005-03-08 \t 3\n",
      "TKT0517\t 4 \t 2004-09-02 \t 1\n",
      "TKT8667\t 7 \t 2004-08-15 \t 5\n",
      "TKT0824\t 8 \t 2014-09-01 \t 1\n",
      "TKT5072\t 6 \t 2004-04-14 \t 1\n",
      "TKT4861\t 3 \t 2001-10-03 \t 3\n",
      "TKT1208\t 7 \t 2013-07-22 \t 4\n",
      "TKT5777\t 3 \t 2002-12-17 \t 3\n",
      "TKT9526\t 6 \t 2009-07-21 \t 2\n",
      "TKT4508\t 10 \t 2013-06-01 \t 5\n",
      "TKT2780\t 1 \t 2001-04-10 \t 5\n",
      "TKT8083\t 5 \t 2017-05-28 \t 3\n",
      "TKT6137\t 3 \t 2011-12-29 \t 2\n",
      "TKT0072\t 4 \t 2013-03-21 \t 3\n",
      "TKT9624\t 7 \t 2019-08-24 \t 3\n",
      "TKT6993\t 2 \t 2007-11-03 \t 2\n",
      "TKT5882\t 4 \t 2014-10-12 \t 3\n",
      "TKT9540\t 4 \t 2018-04-21 \t 2\n",
      "TKT8064\t 1 \t 2005-08-17 \t 4\n",
      "TKT4668\t 4 \t 2003-06-23 \t 2\n",
      "TKT6193\t 8 \t 2017-02-25 \t 5\n",
      "TKT5032\t 9 \t 2003-01-22 \t 5\n",
      "TKT5059\t 8 \t 2012-05-08 \t 1\n",
      "TKT4189\t 4 \t 2012-09-29 \t 3\n",
      "TKT8289\t 5 \t 2010-12-18 \t 5\n",
      "TKT9351\t 8 \t 2000-03-27 \t 4\n",
      "TKT0741\t 2 \t 2002-09-30 \t 1\n",
      "TKT3714\t 6 \t 2012-02-14 \t 3\n",
      "TKT6550\t 8 \t 2003-08-02 \t 4\n",
      "TKT9917\t 7 \t 2003-05-16 \t 1\n",
      "TKT7717\t 6 \t 2019-08-27 \t 5\n",
      "TKT9787\t 4 \t 2003-12-19 \t 3\n",
      "TKT6090\t 2 \t 2001-09-21 \t 3\n",
      "TKT0851\t 7 \t 2001-02-13 \t 2\n",
      "TKT5053\t 5 \t 2004-06-30 \t 4\n",
      "TKT6770\t 8 \t 2006-10-15 \t 3\n",
      "TKT8891\t 3 \t 2000-06-18 \t 3\n",
      "TKT3672\t 6 \t 2008-10-20 \t 4\n",
      "TKT9583\t 8 \t 2006-06-25 \t 2\n",
      "TKT3852\t 10 \t 2015-01-30 \t 4\n",
      "TKT8786\t 6 \t 2012-10-07 \t 4\n",
      "TKT9373\t 10 \t 2000-02-24 \t 2\n",
      "TKT7391\t 1 \t 2005-09-14 \t 5\n",
      "TKT5860\t 1 \t 2012-09-24 \t 2\n",
      "TKT2179\t 6 \t 2019-04-02 \t 2\n",
      "TKT9986\t 1 \t 2010-01-08 \t 1\n",
      "TKT7439\t 1 \t 2004-11-01 \t 4\n",
      "TKT7120\t 2 \t 2000-07-29 \t 5\n",
      "TKT3118\t 4 \t 2006-04-11 \t 5\n",
      "TKT1904\t 4 \t 2013-11-29 \t 2\n",
      "TKT9145\t 3 \t 2014-09-02 \t 4\n",
      "TKT0434\t 9 \t 2006-03-10 \t 3\n",
      "TKT8485\t 2 \t 2017-12-23 \t 1\n",
      "TKT1090\t 5 \t 2010-12-23 \t 3\n",
      "TKT3112\t 3 \t 2016-04-08 \t 5\n",
      "TKT6678\t 7 \t 2003-04-17 \t 4\n",
      "TKT5088\t 9 \t 2011-12-07 \t 1\n",
      "TKT9805\t 3 \t 2001-06-23 \t 3\n",
      "TKT9473\t 1 \t 2005-04-11 \t 1\n",
      "TKT5409\t 5 \t 2004-01-14 \t 4\n",
      "TKT3722\t 7 \t 2008-08-29 \t 5\n",
      "TKT1404\t 1 \t 2010-01-29 \t 5\n",
      "TKT1095\t 7 \t 2006-01-24 \t 2\n",
      "TKT7492\t 9 \t 2016-02-17 \t 1\n",
      "TKT5165\t 2 \t 2002-11-09 \t 5\n",
      "TKT8462\t 5 \t 2007-10-11 \t 1\n",
      "TKT7208\t 2 \t 2006-11-16 \t 4\n",
      "TKT3108\t 8 \t 2013-01-23 \t 3\n",
      "TKT8825\t 3 \t 2005-10-31 \t 4\n",
      "TKT2433\t 10 \t 2006-11-20 \t 3\n",
      "TKT6763\t 5 \t 2011-09-09 \t 4\n",
      "TKT4177\t 10 \t 2012-07-06 \t 5\n",
      "TKT4792\t 4 \t 2016-11-16 \t 3\n",
      "TKT8089\t 4 \t 2012-10-24 \t 4\n",
      "TKT4700\t 10 \t 2010-12-14 \t 1\n",
      "TKT6982\t 2 \t 2015-02-24 \t 4\n",
      "TKT8070\t 2 \t 2013-02-08 \t 4\n",
      "TKT3872\t 4 \t 2007-10-11 \t 3\n",
      "TKT1620\t 2 \t 2012-12-23 \t 5\n",
      "TKT6553\t 5 \t 2006-01-29 \t 2\n",
      "TKT8223\t 10 \t 2001-09-25 \t 1\n",
      "TKT0151\t 9 \t 2013-03-08 \t 4\n",
      "Valitse toiminto: 3\n",
      "Anna kurssin nimi: TKT8485\n",
      "Arvosana 1: 215 kpl\n",
      "Arvosana 2: 188 kpl\n",
      "Arvosana 3: 193 kpl\n",
      "Arvosana 4: 201 kpl\n",
      "Arvosana 5: 208 kpl\n",
      "Valitse toiminto: 4\n",
      "Anna opettajien määrä: 5\n",
      "opettaja \t op\n",
      "Pentti Tiainen \t 106721\n",
      "Otto Kuusela \t 106434\n",
      "Joel Aalto \t 99067\n",
      "Sirpa Hänninen \t 94917\n",
      "Tommi Ojala \t 92107\n",
      "Valitse toiminto: 5\n"
     ]
    }
   ],
   "source": [
    "print(\"1 - Laske annettuna vuonna saatujen opintopisteiden yhteismäärä\")\n",
    "print(\"2 - Tulosta annetun opiskelijan kaikki suoritukset aikajärjestyksessä\")\n",
    "print(\"3 - Tulosta annetun kurssin suoritusten arvosanojen jakauma\")\n",
    "print(\"4 - Tulosta top x eniten opintopisteitä antaneet opettajat\")\n",
    "print(\"5 - Sulje ohjelma\")\n",
    "\n",
    "\n",
    "while True:\n",
    "    komento = input(\"Valitse toiminto: \")\n",
    "\n",
    "    if komento == \"1\":\n",
    "        vuosi = input(\"Anna vuosi: \")\n",
    "        op_maarat = db.execute(\"SELECT SUM(K.laajuus) FROM Kurssit K LEFT JOIN Suoritukset S ON K.id = S.kurssi_id WHERE strftime('%Y', S.paivays)=(?)\", [vuosi]).fetchone()\n",
    "        print(\"Opintopisteiden määrä:\", op_maarat[0])\n",
    "        \n",
    "    if komento == \"2\":\n",
    "        opiskelija = input(\"Anna opiskelijan nimi: \")\n",
    "        opis_kurssit = db.execute(\"SELECT K.nimi, K.laajuus, S.paivays, S.arvosana FROM Kurssit K LEFT JOIN Suoritukset S ON K.id = S.kurssi_id WHERE S.opiskelija_id = (SELECT S.opiskelija_id FROM Suoritukset S LEFT JOIN Opiskelijat O ON S.opiskelija_id = O.id WHERE O.nimi=(?))\", [opiskelija])\n",
    "        print(\"kurssi \\t op \\t päiväys \\t arvosana\")\n",
    "        for x in opis_kurssit:\n",
    "            print(\"{}\\t {} \\t {} \\t {}\".format(x[0],x[1],x[2],x[3]))\n",
    "    \n",
    "    if komento == \"3\":\n",
    "        kurssi = input(\"Anna kurssin nimi: \")\n",
    "        kurssi_arvosanat = db.execute(\"SELECT COUNT(S.arvosana) FROM Suoritukset S LEFT JOIN Kurssit K ON S.kurssi_id = K.id WHERE K.nimi=(?) GROUP BY S.arvosana\", [kurssi])\n",
    "        y = 0\n",
    "        idx = 1\n",
    "        for k_arvosana in kurssi_arvosanat:\n",
    "            print(\"Arvosana {}: {} kpl\".format(idx, k_arvosana[y]))\n",
    "            idx += 1\n",
    "            \n",
    "    if komento == \"4\":\n",
    "        ope_maara = input(\"Anna opettajien määrä: \")\n",
    "        annetut_op = db.execute(\"SELECT O.nimi, SUM(K.laajuus) as annetut_op FROM Opettajat O, Kurssit K, Suoritukset S WHERE O.id = K.opettaja_id AND K.id = S.kurssi_id GROUP BY K.opettaja_id ORDER BY annetut_op DESC LIMIT (?)\", [ope_maara])\n",
    "        print(\"opettaja \\t op\")\n",
    "        for ope in annetut_op:\n",
    "            print(ope[0],'\\t', ope[1])\n",
    "        \n",
    "    if komento == \"5\":\n",
    "        break"
   ]
  },
  {
   "cell_type": "code",
   "execution_count": null,
   "metadata": {},
   "outputs": [],
   "source": []
  }
 ],
 "metadata": {
  "kernelspec": {
   "display_name": "Python 3",
   "language": "python",
   "name": "python3"
  },
  "language_info": {
   "codemirror_mode": {
    "name": "ipython",
    "version": 3
   },
   "file_extension": ".py",
   "mimetype": "text/x-python",
   "name": "python",
   "nbconvert_exporter": "python",
   "pygments_lexer": "ipython3",
   "version": "3.8.3"
  }
 },
 "nbformat": 4,
 "nbformat_minor": 4
}
